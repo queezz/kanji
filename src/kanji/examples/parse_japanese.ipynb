{
    "cells": [
        {
            "cell_type": "code",
            "execution_count": 1,
            "metadata": {},
            "outputs": [],
            "source": [
                "import numpy as np"
            ]
        },
        {
            "cell_type": "code",
            "execution_count": 14,
            "metadata": {},
            "outputs": [],
            "source": [
                "# https://stackoverflow.com/questions/19899554/unicode-range-for-japanese\n",
                "# http://www.unicode.org/charts/\n",
                "def is_hiragana(c):\n",
                "    return u'\\u3040' <= c <= u'\\u309F'\n",
                "\n",
                "def is_katakana(c):\n",
                "    return u'\\u30a0' <= c <= u'\\u30FF'\n",
                "\n",
                "def is_kanji(c):\n",
                "    return u'\\u4e00' <= c <= u'\\u9faf'\n",
                "\n",
                "def is_roman(c):\n",
                "    return u'\\u0041' <= c <= u'\\u005A' or u'\\u0061' <= c <= u'\\u007A'\n",
                "\n",
                "def is_num(c):\n",
                "    return u'\\u0030' <= c <= u'\\u0039'\n",
                "\n",
                "def tire(cc):\n",
                "    return is_roman(cc[0]) and cc[1] =='-'\n",
                "\n",
                "def yn(a):\n",
                "    if a: return 'yes'\n",
                "    return 'no'\n",
                "    \n",
                "def check_jap_string(s):\n",
                "    print('#  S \\thira\\tkata\\tkanji\\troman')\n",
                "    for i,j in enumerate(s):\n",
                "        print(f'{i} \"{j}\"\\t{yn(is_hiragana(j))}\\t{yn(is_katakana(j))}\\t{yn(is_kanji(j))}\\t{yn(is_roman(j))}')"
            ]
        },
        {
            "cell_type": "code",
            "execution_count": 3,
            "metadata": {},
            "outputs": [],
            "source": [
                "with open('../resources/JLPTtext/jlpt4.txt', 'r') as f:\n",
                "    l = f.readlines()"
            ]
        },
        {
            "cell_type": "code",
            "execution_count": 4,
            "metadata": {},
            "outputs": [],
            "source": [
                "b = ''.join(l)\n",
                "b1 = b.replace('\\n','')\n",
                "b1 = b1.replace(' ','')\n",
                "b1 = b1.replace(',',\"'\")\n",
                "ind = [is_kanji(i) for i in b1]\n",
                "b2 = np.array(list(b1[:]))\n",
                "ind2 = np.array(ind[:])"
            ]
        },
        {
            "cell_type": "code",
            "execution_count": 5,
            "metadata": {},
            "outputs": [
                {
                    "data": {
                        "text/plain": [
                            "array(['会', '同', '事', '自', '社', '発', '者', '地', '業', '方', '新', '場', '員',\n",
                            "       '立', '開', '手', '力', '問', '代', '明', '動', '京', '目', '通', '言', '理',\n",
                            "       '体', '田', '主', '題', '意', '不', '作', '用', '度', '強', '公', '持', '野',\n",
                            "       '以', '思', '家', '世', '多', '正', '安', '院', '心', '界', '教', '文', '元',\n",
                            "       '重', '近', '考', '画', '海', '売', '知', '道', '集', '別', '物', '使', '品',\n",
                            "       '計', '死', '特', '私', '始', '朝', '運', '終', '台', '広', '住', '真', '有',\n",
                            "       '口', '少', '町', '料', '工', '建', '空', '急', '止', '送', '切', '転', '研',\n",
                            "       '足', '究', '楽', '起', '着', '店', '病', '質', '待', '試', '族', '銀', '早',\n",
                            "       '映', '親', '験', '英', '医', '仕', '去', '味', '写', '字', '答', '夜', '音',\n",
                            "       '注', '帰', '古', '歌', '買', '悪', '図', '週', '室', '歩', '風', '紙', '黒',\n",
                            "       '花', '春', '赤', '青', '館', '屋', '色', '走', '秋', '夏', '習', '駅', '洋',\n",
                            "       '旅', '服', '夕', '借', '曜', '飲', '肉', '貸', '堂', '鳥', '飯', '勉', '冬',\n",
                            "       '昼', '茶', '弟', '牛', '魚', '兄', '犬', '妹', '姉', '漢'], dtype='<U1')"
                        ]
                    },
                    "execution_count": 5,
                    "metadata": {},
                    "output_type": "execute_result"
                }
            ],
            "source": [
                "b2[ind2]"
            ]
        },
        {
            "cell_type": "code",
            "execution_count": 25,
            "metadata": {},
            "outputs": [],
            "source": [
                "def cond(c):\n",
                "    return is_roman(c) or c == ' ' or c == ';' or c ==',' or c=='(' or c == ')' or c==\"'\" or is_num(c) or c =='*'\n",
                "\n",
                "n = []\n",
                "isroman = False\n",
                "for i,j in enumerate(ind2):\n",
                "    if j:\n",
                "        if i> 0: n.append('\\n')\n",
                "        n.append(b2[i])\n",
                "        n.append(',')\n",
                "    else:\n",
                "        if not isroman and cond(b2[i]):\n",
                "            if not tire(b2[i-1:i+1]): n.append(',')\n",
                "            n.append(b2[i])\n",
                "        else:            \n",
                "            n.append(b2[i])\n",
                "        isroman = cond(b2[i]) "
            ]
        },
        {
            "cell_type": "code",
            "execution_count": 26,
            "metadata": {},
            "outputs": [],
            "source": [
                "txt = ''.join(n)\n",
                "d = txt.split('\\n')"
            ]
        },
        {
            "cell_type": "code",
            "execution_count": 27,
            "metadata": {},
            "outputs": [
                {
                    "data": {
                        "text/plain": [
                            "['会', 'カイ・エ・あ.う・あ.わせる・あつ.まる', 'meeting;meet;party;association;interview;join']"
                        ]
                    },
                    "execution_count": 27,
                    "metadata": {},
                    "output_type": "execute_result"
                }
            ],
            "source": [
                "d[0].split(',')"
            ]
        },
        {
            "cell_type": "code",
            "execution_count": 28,
            "metadata": {},
            "outputs": [
                {
                    "name": "stdout",
                    "output_type": "stream",
                    "text": [
                        "会,カイ・エ・あ.う・あ.わせる・あつ.まる,meeting;meet;party;association;interview;join\n",
                        "同,ドウ・おな.じ,same;agree;equal\n",
                        "事,ジ・ズ・こと・つか.う・つか.える,matter;thing;fact;business;reason;possibly\n",
                        "自,ジ・シ・みずか.ら・おの.ずから・おの.ずと,oneself\n",
                        "社,シャ・やしろ,company;firm;office;association;shrine\n",
                        "発,ハツ・ホツ・た.つ・あば.く・おこ.る・つか.わす・はな.つ,departure;discharge;publish;emit;startfrom;disclose;counterforgunshots\n",
                        "者,シャ・もの,someone;person\n",
                        "地,チ・ジ,ground;earth\n",
                        "業,ギョウ・ゴウ・わざ,business;vocation;arts;performance\n",
                        "方,ホウ・かた・-かた・-がた,direction;person;alternative\n",
                        "新,シン・あたら.しい・あら.た・あら-・にい-,new\n",
                        "場,ジョウ・チョウ・ば,location;place\n",
                        "員,イン,employee;member;number;theoneincharge\n",
                        "立,リツ・リュウ・リットル・た.つ・-た.つ・た.ち-・た.てる・-た.てる・た.て-・たて-・-た.て・-だ.て・-だ.てる,standup;rise;setup;erect\n",
                        "開,カイ・ひら.く・ひら.き・-びら.き・ひら.ける・あ.く・あ.ける,open;unfold;unseal\n",
                        "手,シュ・ズ・て・て-・-て・た-,hand\n",
                        "力,リョク・リキ・リイ・ちから,power;strength;strong;strain;bearup;exert\n",
                        "問,モン・と.う・と.い・とん,question;ask;problem\n",
                        "代,ダイ・タイ・か.わる・かわ.る・かわ.り・か.わり・-がわ.り・-が.わり・か.える・よ・しろ,substitute;change;convert;replace;period;age;counterfordecadesofages'eras'etc;generation;charge;rate;fee\n",
                        "明,メイ・ミョウ・ミン・あ.かり・あか.るい・あか.るむ・あか.らむ・あき.らか・あ.ける・-あ.け・あ.く・あ.くる・あ.かす,bright;light\n",
                        "動,ドウ・うご.く・うご.かす,move;motion;change;confusion;shift;shake\n",
                        "京,キョウ・ケイ・キン・みやこ,capital;10**16\n",
                        "目,モク・ボク・め・-め・ま-,eye;class;look;insight;experience;care;favor\n",
                        "通,ツウ・ツ・とお.る・とお.り・-とお.り・-どお.り・とお.す・とお.し・-どお.し・かよ.う,traffic;passthrough;avenue;commute;counterforletters'notes'documents'etc.\n",
                        "言,ゲン・ゴン・い.う・こと,say\n",
                        "理,リ・ことわり,logic;arrangement;reason;justice;truth\n",
                        "体,タイ・テイ・からだ・かたち,body;substance;object;reality;counterforimages\n",
                        "田,デン・た,ricefield;ricepaddy\n",
                        "主,シュ・ス・シュウ・ぬし・おも・あるじ,lord;chief;master;mainthing;principal\n",
                        "題,ダイ,topic;subject\n",
                        "意,イ,idea;mind;heart;taste;thought;desire;care;liking\n",
                        "不,フ・ブ,negative;non;bad;ugly;clumsy\n",
                        "作,サク・サ・つく.る・つく.り・-づく.り,make;production;prepare;build\n",
                        "用,ヨウ・もち.いる,utilize;business;service;use;employ\n",
                        "度,ド・ト・タク・たび・-た.い,degrees;occurrence;time;counterforoccurrences\n",
                        "強,キョウ・ゴウ・つよ.い・つよ.まる・つよ.める・し.いる・こわ.い,strong\n",
                        "公,コウ・ク・おおやけ,public;prince;official;governmental\n",
                        "持,ジ・も.つ・-も.ち・も.てる,hold;have\n",
                        "野,ヤ・ショ・の・の-,plains;field;rustic;civilianlife\n",
                        "以,イ・もっ.て,bymeansof;because;inviewof;comparedwith\n",
                        "思,シ・おも.う・おもえら.く・おぼ.す,think\n",
                        "家,カ・ケ・いえ・や・うち,house;home;family;professional;expert;performer\n",
                        "世,セイ・セ・ソウ・よ・さんじゅう,generation;world;society;public\n",
                        "多,タ・おお.い・まさ.に・まさ.る,many;frequent;much\n",
                        "正,セイ・ショウ・ただ.しい・ただ.す・まさ・まさ.に,correct;justice;righteous;10**40\n",
                        "安,アン・やす.い・やす.まる・やす・やす.らか,relax;cheap;low;quiet;rested;contented;peaceful\n",
                        "院,イン,Inst.,;institution;temple;mansion;school\n",
                        "心,シン・こころ・-ごころ,heart;mind;spirit;heartradical(no61)\n",
                        "界,カイ,world\n",
                        "教,キョウ・おし.える・おそ.わる,teach;faith;doctrine\n",
                        "文,ブン・モン・ふみ・あや,sentence;literature;style;art;decoration;figures;plan;literaryradical(no67)\n",
                        "元,ゲン・ガン・もと,beginning;formertime;origin\n",
                        "重,ジュウ・チョウ・え・おも.い・おも.り・おも.なう・かさ.ねる・かさ.なる・おも,heavy;heapup;pileup;nestofboxes;-,fold\n",
                        "近,キン・コン・ちか.い,near;early;akin;tantamount\n",
                        "考,コウ・かんが.える・かんが.え,consider;thinkover\n",
                        "画,ガ・カク・エ・カイ・えが.く・かく.する・かぎ.る・はかりごと・はか.る,brush-,stroke;picture\n",
                        "海,カイ・うみ,sea;ocean\n",
                        "売,バイ・う.る・う.れる,sell\n",
                        "知,チ・し.る・し.らせる,know;wisdom\n",
                        "道,ドウ・トウ・みち,road-,way;street;district;journey;course;moral;teachings\n",
                        "集,シュウ・あつ.まる・あつ.める・つど.う,gather;meet;congregate;swarm;flock\n",
                        "別,ベツ・わか.れる・わ.ける,separate;branchoff;diverge;fork;another;extra;specially\n",
                        "物,ブツ・モツ・もの・もの-,thing;object;matter\n",
                        "使,シ・つか.う・つか.い・-つか.い・-づか.い,use;sendonamission;order;messenger;envoy;ambassador;cause\n",
                        "品,ヒン・ホン・しな,goods;refinement;dignity;article;counterformealcourses\n",
                        "計,ケイ・はか.る・はか.らう,plot;plan;scheme;measure\n",
                        "死,シ・し.ぬ・し.に-,death;die\n",
                        "特,トク,special\n",
                        "私,シ・わたくし・わたし,private;I;me\n",
                        "始,シ・はじ.める・-はじ.める・はじ.まる,commence;begin\n",
                        "朝,チョウ・あさ,morning;dynasty;regime;epoch;period;(North)Korea\n",
                        "運,ウン・はこ.ぶ,carry;luck;destiny;fate;lot;transport;progress;advance\n",
                        "終,シュウ・お.わる・-お.わる・おわ.る・お.える・つい・つい.に,end;finish\n",
                        "台,ダイ・タイ・うてな・われ・つかさ,pedestal;astand;counterformachinesandvehicles\n",
                        "広,コウ・ひろ.い・ひろ.まる・ひろ.める・ひろ.がる・ひろ.げる,wide;broad;spacious\n",
                        "住,ジュウ・ヂュウ・チュウ・す.む・す.まう・-ず.まい,dwell;reside;live;inhabit\n",
                        "真,シン・ま・ま-・まこと,true;reality;Buddhistsect\n",
                        "有,ユウ・ウ・あ.る,possess;have;exist;happen;occur;approx\n",
                        "口,コウ・ク・くち,mouth\n",
                        "少,ショウ・すく.ない・すこ.し,few;little\n",
                        "町,チョウ・まち,town;village;block;street\n",
                        "料,リョウ,fee;materials\n",
                        "工,コウ・ク・グ,craft;construction;katakanaeradical(no48)\n",
                        "建,ケン・コン・た.てる・た.て・-だ.て・た.つ,build\n",
                        "空,クウ・そら・あ.く・あ.き・あ.ける・から・す.く・す.かす・むな.しい,empty;sky;void;vacant;vacuum\n",
                        "急,キュウ・いそ.ぐ・いそ.ぎ,hurry;emergency;sudden;steep\n",
                        "止,シ・と.まる・-ど.まり・と.める・-と.める・-ど.め・とど.める・とど.め・とど.まる・や.める・や.む・-や.む・よ.す・-さ.す・-さ.し,stop;halt\n",
                        "送,ソウ・おく.る,escort;send\n",
                        "切,セツ・サイ・き.る・-き.る・き.り・-き.り・-ぎ.り・き.れる・-き.れる・き.れ・-き.れ・-ぎ.れ,cut;cutoff;besharp\n",
                        "転,テン・ころ.がる・ころ.げる・ころ.がす・ころ.ぶ・まろ.ぶ・うたた・うつ.る・くる.めく,revolve;turnaround;change\n",
                        "研,ケン・と.ぐ,polish;studyof;sharpen\n",
                        "足,ソク・あし・た.りる・た.る・た.す,leg;foot;besufficient;counterforpairsoffootwear\n",
                        "究,キュウ・ク・きわ.める,research;study\n",
                        "楽,ガク・ラク・ゴウ・たの.しい・たの.しむ・この.む,music;comfort;ease\n",
                        "起,キ・お.きる・お.こる・お.こす・おこ.す・た.つ,rouse;wakeup;getup\n",
                        "着,チャク・ジャク・き.る・-ぎ・き.せる・-き.せ・つ.く・つ.ける,don;arrive;wear;counterforsuitsofclothing\n",
                        "店,テン・みせ・たな,store;shop\n",
                        "病,ビョウ・ヘイ・や.む・-や.み・やまい,ill;sick\n",
                        "質,シツ・シチ・チ・たち・ただ.す・もと・わりふ,substance;quality;matter;temperament\n",
                        "待,タイ・ま.つ・-ま.ち,wait;dependon\n",
                        "試,シ・こころ.みる・ため.す,test;try;attempt;experiment;ordeal\n",
                        "族,ゾク,tribe;family\n",
                        "銀,ギン・しろがね,silver\n",
                        "早,ソウ・サッ・はや.い・はや・はや-・はや.まる・はや.める・さ-,early;fast\n",
                        "映,エイ・うつ.る・うつ.す・は.える・-ば.え,reflect;reflection;projection\n",
                        "親,シン・おや・おや-・した.しい・した.しむ,parent;intimacy;relative;familiarity;dealer(cards)\n",
                        "験,ケン・ゲン・あかし・しるし・ため.す・ためし,verification;effect;testing\n",
                        "英,エイ・はなぶさ,England;English\n",
                        "医,イ・い.やす・い.する・くすし,doctor;medicine\n",
                        "仕,シ・ジ・つか.える,attend;doing;official;serve\n",
                        "去,キョ・コ・さ.る・-さ.る,gone;past;quit;leave;elapse;eliminate;divorce\n",
                        "味,ミ・あじ・あじ.わう,flavor;taste\n",
                        "写,シャ・ジャ・うつ.す・うつ.る・うつ-・うつ.し,copy;bephotographed;describe\n",
                        "字,ジ・あざ・あざな・-な,character;letter;word;sectionofvillage\n",
                        "答,トウ・こた.える・こた.え,solution;answer\n",
                        "夜,ヤ・よ・よる,night;evening\n",
                        "音,オン・イン・-ノン・おと・ね,sound;noise\n",
                        "注,チュウ・そそ.ぐ・さ.す・つ.ぐ,pour;irrigate;shed(tears);flowinto;concentrateon;notes;comment;annotate\n",
                        "帰,キ・かえ.る・かえ.す・おく.る・とつ.ぐ,homecoming;arriveat;leadto;resultin\n",
                        "古,コ・ふる.い・ふる-・-ふる.す,old\n",
                        "歌,カ・うた・うた.う,song;sing\n",
                        "買,バイ・か.う,buy\n",
                        "悪,アク・オ・わる.い・わる-・あ.し・にく.い・-にく.い・ああ・いずくに・いずくんぞ・にく.む,bad;vice;rascal;false;evil;wrong\n",
                        "図,ズ・ト・え・はか.る,map;drawing;plan;unexpected;accidentally\n",
                        "週,シュウ,week\n",
                        "室,シツ・むろ,room;apartment;chamber;greenhouse;cellar\n",
                        "歩,ホ・ブ・フ・ある.く・あゆ.む,walk;counterforsteps\n",
                        "風,フウ・フ・かぜ・かざ-・-かぜ,wind;air;style;manner\n",
                        "紙,シ・かみ,paper\n",
                        "黒,コク・くろ・くろ.ずむ・くろ.い,black\n",
                        "花,カ・ケ・はな,flower\n",
                        "春,シュン・はる,springtime;spring(season)\n",
                        "赤,セキ・シャク・あか・あか-・あか.い・あか.らむ・あか.らめる,red\n",
                        "青,セイ・ショウ・あお・あお-・あお.い,blue;green\n",
                        "館,カン・やかた・たて,building;mansion;largebuilding;palace\n",
                        "屋,オク・や,roof;house;shop;dealer;seller\n",
                        "色,ショク・シキ・いろ,color\n",
                        "走,ソウ・はし.る,run\n",
                        "秋,シュウ・あき・とき,autumn\n",
                        "夏,カ・ガ・ゲ・なつ,summer\n",
                        "習,シュウ・ジュ・なら.う・なら.い,learn\n",
                        "駅,エキ,station\n",
                        "洋,ヨウ,ocean;westernstyle\n",
                        "旅,リョ・たび,trip;travel\n",
                        "服,フク,clothing;admit;obey;discharge\n",
                        "夕,セキ・ゆう,evening\n",
                        "借,シャク・か.りる,borrow;rent\n",
                        "曜,ヨウ,weekday\n",
                        "飲,イン・オン・の.む・-の.み,drink;smoke;take\n",
                        "肉,ニク・しし,meat\n",
                        "貸,タイ・か.す・か.し-・かし-,lend\n",
                        "堂,ドウ,publicchamber;hall\n",
                        "鳥,チョウ・とり,bird;chicken\n",
                        "飯,ハン・めし,meal;boiledrice\n",
                        "勉,ベン・つと.める,exertion;endeavour;encourage;strive;makeeffort;diligent\n",
                        "冬,トウ・ふゆ,winter\n",
                        "昼,チュウ・ひる,daytime;noon\n",
                        "茶,チャ・サ,tea\n",
                        "弟,テイ・ダイ・デ・おとうと,youngerbrother;faithfulservicetoelders\n",
                        "牛,ギュウ・うし,cow\n",
                        "魚,ギョ・うお・さかな・-ざかな,fish\n",
                        "兄,ケイ・キョウ・あに,elderbrother;bigbrother\n",
                        "犬,ケン・いぬ・いぬ-,dog\n",
                        "妹,マイ・いもうと,youngersister\n",
                        "姉,シ・あね・はは,eldersister\n",
                        "漢,カン,Sino-,;China\n"
                    ]
                }
            ],
            "source": [
                "print(txt)"
            ]
        },
        {
            "cell_type": "code",
            "execution_count": 29,
            "metadata": {},
            "outputs": [],
            "source": [
                "#with open('../data/jlpt4.csv', 'w') as f: f.write(txt)"
            ]
        }
    ],
    "metadata": {
        "kernelspec": {
            "display_name": "Python 3.9.7 ('base')",
            "language": "python",
            "name": "python3"
        },
        "language_info": {
            "codemirror_mode": {
                "name": "ipython",
                "version": 3
            },
            "file_extension": ".py",
            "mimetype": "text/x-python",
            "name": "python",
            "nbconvert_exporter": "python",
            "pygments_lexer": "ipython3",
            "version": "3.9.7"
        },
        "orig_nbformat": 4,
        "vscode": {
            "interpreter": {
                "hash": "d395a881eae0f3c34298f2428d8cb468ec143c8f6fccfeb6ff76c40346ac66e0"
            }
        }
    },
    "nbformat": 4,
    "nbformat_minor": 2
}
