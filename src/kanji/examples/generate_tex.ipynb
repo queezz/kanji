{
    "cells": [
        {
            "cell_type": "code",
            "execution_count": 1,
            "metadata": {},
            "outputs": [],
            "source": [
                "import pandas as pd"
            ]
        },
        {
            "cell_type": "code",
            "execution_count": 2,
            "metadata": {},
            "outputs": [],
            "source": [
                "header = r\"\"\"\\documentclass[a4paper,12pt]{extarticle}\n",
                "\\input{preamble.tex}\n",
                "\\usepackage{CJKutf8}\n",
                "\\usepackage{array}% http://ctan.org/pkg/array\n",
                "\\usepackage{makecell}\n",
                "\\usepackage{longtable}\n",
                "\\begin{document}\n",
                "\"\"\"\n",
                "ltblend = r'\\end{longtable}'\n",
                "end = r\"\\end{document}\\n\""
            ]
        },
        {
            "cell_type": "code",
            "execution_count": 78,
            "metadata": {},
            "outputs": [],
            "source": [
                "ltbl3 = r\"\"\"\\begin{longtable}{|lll|}\n",
                "        %#\\caption{Kanji.} \\label{tab:long}                                                                                                             \\\\\n",
                "\n",
                "        \\multicolumn{1}{c}{\\textbf{Kanji}} & \\multicolumn{1}{c}{\\textbf{Reading}} & \\multicolumn{1}{c}{\\textbf{Meaning}} \\\\ \\hline\n",
                "        \\endfirsthead\n",
                "\n",
                "        \\multicolumn{1}{c}{\\textbf{Kanji}} & \\multicolumn{1}{c}{\\textbf{Reading}} & \\multicolumn{1}{c}{\\textbf{Meaning}} \\\\ \\hline\n",
                "        \\endhead\n",
                "\n",
                "        \\hline\n",
                "        \\endfoot\n",
                "\n",
                "        \\hline \\hline\n",
                "        \\endlastfoot\n",
                "\"\"\""
            ]
        },
        {
            "cell_type": "code",
            "execution_count": 55,
            "metadata": {},
            "outputs": [],
            "source": [
                "def entry(fignames,reading,meaning):\n",
                "    \"\"\" One table entry for a one column dict\n",
                "    fignames: figure file names separated by space\n",
                "    reading: str with hiragana reading\n",
                "    meaning: str with meaning\n",
                "    \"\"\"\n",
                "    s = '%' + '-'*20 + '\\n'\n",
                "    s+='% dictionary entry START\\n'\n",
                "    s+=\"\\\\begin{minipage}{.3\\\\textwidth}\\n\"\n",
                "\n",
                "    fignames = fignames.split(' ')\n",
                "    \n",
                "    s+=\"\\centerline{\\n\"\n",
                "    for figname in fignames:\n",
                "      s+=f\"\\t\\includegraphics[width=0.4\\\\linewidth,]{{{figname}}}\\n\"\n",
                "    s+=\"}\\n\"\n",
                "\n",
                "    s+=\"\\\\end{minipage}\\n&\\n\"\n",
                "    s+=f\"\\\\begin{{CJK}}{{UTF8}}{{min}}{reading}\\\\end{{CJK}}\\n&\"\"\"\n",
                "    s+=f\"\\n{meaning}\\n\"\n",
                "    s+='% dictionary entry END\\n'\n",
                "    return s\n",
                "\n",
                "rowsep = \"% Row END\\n\\\\\\\\ \\n%\" +'='*45 +'\\n'\n",
                "\n",
                "def row(entries):\n",
                "  \"\"\"\n",
                "  entries: list of entries to be joined\n",
                "  \"\"\"\n",
                "  rowstart = '% Row START\\n'\n",
                "  if type(entries) != list: raise TypeError(f'entries must bie a list, but are {type(entries)}')\n",
                "  if len(entries) == 1:\n",
                "    return rowstart + entries[0]+rowsep\n",
                "\n",
                "  return rowstart +'\\n&\\n'.join(entries) + rowsep"
            ]
        },
        {
            "cell_type": "code",
            "execution_count": 5,
            "metadata": {},
            "outputs": [],
            "source": [
                "#print(row([entry(['ichi','ni'],'ichi','one'),entry(['ichi','ni'],'ichi','one')]))"
            ]
        },
        {
            "cell_type": "code",
            "execution_count": 6,
            "metadata": {},
            "outputs": [],
            "source": [
                "#print(row([entry(['ichi','ni'],'ichi','one')]))"
            ]
        },
        {
            "cell_type": "markdown",
            "metadata": {},
            "source": [
                "```python\n",
                "fig = ['ichi','ni','san','yon','go','roku','nana','hachi','kyu','jyu','hyaku','sen','man',('hyaku','man'),('sen','man')]\n",
                "read = ['いち','に','さん','し','ご','ろく', 'しち', 'ち', 'きゅう', 'じゅう','hyaku','sen','man','hyakuman','senman']\n",
                "mean = ['1','2','3','4','5','6','7','8','9','10','100','$10^{3}$','$10^{4}$','$10^{5}$','$10^{6}$']\n",
                "pd.DataFrame([fig,read,mean]).T.to_csv('test.csv',index=False,header=['fig','read','mean'])\n",
                "rows = [row([entry(f,r,m)]) for f,r,m in zip(fig,read,mean)]\n",
                "tex = header + ltbl3 + ''.join(rows) + ltblend + end\n",
                "```"
            ]
        },
        {
            "cell_type": "code",
            "execution_count": 79,
            "metadata": {},
            "outputs": [],
            "source": [
                "mydi = pd.read_csv('numbers.csv')\n",
                "rows = [row([entry(*r)]) for i,r in mydi.iterrows()]\n",
                "tex = header + ltbl3 + ''.join(rows) + ltblend + end"
            ]
        },
        {
            "cell_type": "code",
            "execution_count": 80,
            "metadata": {},
            "outputs": [],
            "source": [
                "with open('textest.tex', 'w') as f:\n",
                "    f.write(tex)"
            ]
        }
    ],
    "metadata": {
        "kernelspec": {
            "display_name": "Python 3.9.7 ('base')",
            "language": "python",
            "name": "python3"
        },
        "language_info": {
            "codemirror_mode": {
                "name": "ipython",
                "version": 3
            },
            "file_extension": ".py",
            "mimetype": "text/x-python",
            "name": "python",
            "nbconvert_exporter": "python",
            "pygments_lexer": "ipython3",
            "version": "3.9.7"
        },
        "orig_nbformat": 4,
        "vscode": {
            "interpreter": {
                "hash": "d395a881eae0f3c34298f2428d8cb468ec143c8f6fccfeb6ff76c40346ac66e0"
            }
        }
    },
    "nbformat": 4,
    "nbformat_minor": 2
}
