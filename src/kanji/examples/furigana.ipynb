{
    "cells": [
        {
            "cell_type": "code",
            "execution_count": 1,
            "metadata": {},
            "outputs": [],
            "source": [
                "from furigana.furigana import print_html"
            ]
        },
        {
            "cell_type": "code",
            "execution_count": 2,
            "metadata": {},
            "outputs": [],
            "source": [
                "import MeCab as mc"
            ]
        },
        {
            "cell_type": "code",
            "execution_count": 3,
            "metadata": {},
            "outputs": [
                {
                    "data": {
                        "text/plain": [
                            "['python', 'が', '大好き', 'です']"
                        ]
                    },
                    "execution_count": 3,
                    "metadata": {},
                    "output_type": "execute_result"
                }
            ],
            "source": [
                "wakati = mc.Tagger(\"-Owakati\")\n",
                "wakati.parse(\"pythonが大好きです\").split()"
            ]
        }
    ],
    "metadata": {
        "interpreter": {
            "hash": "91b55dc8dc5e894ef821af3234480c4f7342edd9774c8a815382590549856cb1"
        },
        "kernelspec": {
            "display_name": "Python 3.9.5 ('base')",
            "language": "python",
            "name": "python3"
        },
        "language_info": {
            "codemirror_mode": {
                "name": "ipython",
                "version": 3
            },
            "file_extension": ".py",
            "mimetype": "text/x-python",
            "name": "python",
            "nbconvert_exporter": "python",
            "pygments_lexer": "ipython3",
            "version": "3.9.5"
        },
        "orig_nbformat": 4,
        "vscode": {
            "interpreter": {
                "hash": "d395a881eae0f3c34298f2428d8cb468ec143c8f6fccfeb6ff76c40346ac66e0"
            }
        }
    },
    "nbformat": 4,
    "nbformat_minor": 2
}
