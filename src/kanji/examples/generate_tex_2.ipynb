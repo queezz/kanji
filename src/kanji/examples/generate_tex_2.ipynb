{
    "cells": [
        {
            "cell_type": "code",
            "execution_count": 1,
            "metadata": {},
            "outputs": [],
            "source": [
                "import pandas as pd\n",
                "import numpy as np"
            ]
        },
        {
            "cell_type": "code",
            "execution_count": 18,
            "metadata": {},
            "outputs": [],
            "source": [
                "%run -n ../textools.py\n",
                "dicpath = '../data/jlpt5.csv'\n",
                "\n",
                "generatetex(dicpath)"
            ]
        },
        {
            "cell_type": "code",
            "execution_count": 2,
            "metadata": {},
            "outputs": [],
            "source": [
                "%run -n ../textools.py\n",
                "dicpath = '../data/numbers.csv'\n",
                "generatetex2c(dicpath)#,savepath=)"
            ]
        },
        {
            "cell_type": "code",
            "execution_count": 4,
            "metadata": {},
            "outputs": [],
            "source": [
                "%run -n ../textools.py\n",
                "dicpath = '../data/hiragana.csv'\n",
                "\n",
                "generatetex2c(dicpath)"
            ]
        },
        {
            "cell_type": "code",
            "execution_count": 6,
            "metadata": {},
            "outputs": [],
            "source": [
                "%run -n ../textools.py\n",
                "dicpath = '../data/jlpt5.csv'\n",
                "\n",
                "generatetex2c(dicpath)"
            ]
        },
        {
            "cell_type": "code",
            "execution_count": 10,
            "metadata": {},
            "outputs": [],
            "source": [
                "#generatetex('numbers.csv')"
            ]
        },
        {
            "cell_type": "code",
            "execution_count": 6,
            "metadata": {},
            "outputs": [],
            "source": [
                "%run latexclean.py -f"
            ]
        }
    ],
    "metadata": {
        "interpreter": {
            "hash": "91b55dc8dc5e894ef821af3234480c4f7342edd9774c8a815382590549856cb1"
        },
        "kernelspec": {
            "display_name": "Python 3.9.5 ('base')",
            "language": "python",
            "name": "python3"
        },
        "language_info": {
            "codemirror_mode": {
                "name": "ipython",
                "version": 3
            },
            "file_extension": ".py",
            "mimetype": "text/x-python",
            "name": "python",
            "nbconvert_exporter": "python",
            "pygments_lexer": "ipython3",
            "version": "3.9.5"
        },
        "orig_nbformat": 4,
        "vscode": {
            "interpreter": {
                "hash": "d395a881eae0f3c34298f2428d8cb468ec143c8f6fccfeb6ff76c40346ac66e0"
            }
        }
    },
    "nbformat": 4,
    "nbformat_minor": 2
}
